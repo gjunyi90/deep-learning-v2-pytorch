{
 "cells": [
  {
   "cell_type": "markdown",
   "metadata": {},
   "source": [
    "# Neural networks with PyTorch\n",
    "\n",
    "Deep learning networks tend to be massive with dozens or hundreds of layers, that's where the term \"deep\" comes from. You can build one of these deep networks using only weight matrices as we did in the previous notebook, but in general it's very cumbersome and difficult to implement. PyTorch has a nice module `nn` that provides a nice way to efficiently build large neural networks."
   ]
  },
  {
   "cell_type": "code",
   "execution_count": 1,
   "metadata": {},
   "outputs": [],
   "source": [
    "# Import necessary packages\n",
    "\n",
    "%matplotlib inline\n",
    "%config InlineBackend.figure_format = 'retina'\n",
    "\n",
    "import numpy as np\n",
    "import torch\n",
    "\n",
    "import helper\n",
    "\n",
    "import matplotlib.pyplot as plt"
   ]
  },
  {
   "cell_type": "markdown",
   "metadata": {},
   "source": [
    "\n",
    "Now we're going to build a larger network that can solve a (formerly) difficult problem, identifying text in an image. Here we'll use the MNIST dataset which consists of greyscale handwritten digits. Each image is 28x28 pixels, you can see a sample below\n",
    "\n",
    "<img src='assets/mnist.png'>\n",
    "\n",
    "Our goal is to build a neural network that can take one of these images and predict the digit in the image.\n",
    "\n",
    "First up, we need to get our dataset. This is provided through the `torchvision` package. The code below will download the MNIST dataset, then create training and test datasets for us. Don't worry too much about the details here, you'll learn more about this later."
   ]
  },
  {
   "cell_type": "code",
   "execution_count": 2,
   "metadata": {},
   "outputs": [
    {
     "name": "stdout",
     "output_type": "stream",
     "text": [
      "Downloading http://yann.lecun.com/exdb/mnist/train-images-idx3-ubyte.gz\n",
      "Downloading http://yann.lecun.com/exdb/mnist/train-labels-idx1-ubyte.gz\n",
      "Downloading http://yann.lecun.com/exdb/mnist/t10k-images-idx3-ubyte.gz\n",
      "Downloading http://yann.lecun.com/exdb/mnist/t10k-labels-idx1-ubyte.gz\n",
      "Processing...\n",
      "Done!\n"
     ]
    }
   ],
   "source": [
    "### Run this cell\n",
    "\n",
    "from torchvision import datasets, transforms\n",
    "\n",
    "# Define a transform to normalize the data\n",
    "transform = transforms.Compose([transforms.ToTensor(),\n",
    "                              transforms.Normalize((0.5, 0.5, 0.5), (0.5, 0.5, 0.5)),\n",
    "                              ])\n",
    "# Download and load the training data\n",
    "trainset = datasets.MNIST('MNIST_data/', download=True, train=True, transform=transform)\n",
    "trainloader = torch.utils.data.DataLoader(trainset, batch_size=64, shuffle=True)"
   ]
  },
  {
   "cell_type": "markdown",
   "metadata": {},
   "source": [
    "We have the training data loaded into `trainloader` and we make that an iterator with `iter(trainloader)`. Later, we'll use this to loop through the dataset for training, like\n",
    "\n",
    "```python\n",
    "for image, label in trainloader:\n",
    "    ## do things with images and labels\n",
    "```\n",
    "\n",
    "You'll notice I created the `trainloader` with a batch size of 64, and `shuffle=True`. The batch size is the number of images we get in one iteration from the data loader and pass through our network, often called a *batch*. And `shuffle=True` tells it to shuffle the dataset every time we start going through the data loader again. But here I'm just grabbing the first batch so we can check out the data. We can see below that `images` is just a tensor with size `(64, 1, 28, 28)`. So, 64 images per batch, 1 color channel, and 28x28 images."
   ]
  },
  {
   "cell_type": "code",
   "execution_count": 9,
   "metadata": {},
   "outputs": [
    {
     "name": "stdout",
     "output_type": "stream",
     "text": [
      "<class 'torch.Tensor'>\n",
      "torch.Size([64, 1, 28, 28])\n",
      "torch.Size([64])\n"
     ]
    }
   ],
   "source": [
    "dataiter = iter(trainloader)\n",
    "images, labels = dataiter.next()\n",
    "print(type(images))\n",
    "print(images.shape)\n",
    "print(labels.shape)"
   ]
  },
  {
   "cell_type": "markdown",
   "metadata": {},
   "source": [
    "This is what one of the images looks like. "
   ]
  },
  {
   "cell_type": "code",
   "execution_count": 10,
   "metadata": {},
   "outputs": [
    {
     "data": {
      "image/png": "[encoded data removed]",
      "text/plain": [
       "<Figure size 432x288 with 1 Axes>"
      ]
     },
     "metadata": {
      "image/png": {
       "height": 250,
       "width": 253
      },
      "needs_background": "light"
     },
     "output_type": "display_data"
    }
   ],
   "source": [
    "plt.imshow(images[1].numpy().squeeze(), cmap='Greys_r');"
   ]
  },
  {
   "cell_type": "markdown",
   "metadata": {},
   "source": [
    "First, let's try to build a simple network for this dataset using weight matrices and matrix multiplications. Then, we'll see how to do it using PyTorch's `nn` module which provides a much more convenient and powerful method for defining network architectures.\n",
    "\n",
    "The networks you've seen so far are called *fully-connected* or *dense* networks. Each unit in one layer is connected to each unit in the next layer. In fully-connected networks, the input to each layer must be a one-dimensional vector (which can be stacked into a 2D tensor as a batch of multiple examples). However, our images are 28x28 2D tensors, so we need to convert them into 1D vectors. Thinking about sizes, we need to convert the batch of images with shape `(64, 1, 28, 28)` to a have a shape of `(64, 784)`, 784 is 28 times 28. This is typically called *flattening*, we flattened the 2D images into 1D vectors.\n",
    "\n",
    "Previously you built a network with one output unit. Here we need 10 output units, one for each digit. We want our network to predict the digit shown in an image, so what we'll do is calculate probabilities that the image is of any one digit or class. This ends up being a discrete probability distribution over the classes (digits) that tells us the most likely class for the image. That means we need 10 output units for the 10 classes (digits). We'll see how to convert the network output into a probability distribution next.\n",
    "\n",
    "> **Exercise:** Flatten the batch of images `images`. Then build a multi-layer network with 784 input units, 256 hidden units, and 10 output units using random tensors for the weights and biases. For now, use a sigmoid activation for the hidden layer. Leave the output layer without an activation, we'll add one that gives us a probability distribution next."
   ]
  },
  {
   "cell_type": "code",
   "execution_count": 16,
   "metadata": {},
   "outputs": [
    {
     "name": "stdout",
     "output_type": "stream",
     "text": [
      "tensor([[ 15.0043, -10.7092,  -1.3238,   8.4009,  -2.8536,   9.1056,  -6.8805,\n",
      "           4.2483, -16.7146,   5.6127],\n",
      "        [  0.7057,   2.4019,  -1.9010,  13.9475,  -1.3012,  13.7041,   4.9462,\n",
      "           1.3169,  -5.5489,  -0.2631],\n",
      "        [  0.7807,  -9.0743,   4.7242,  11.4755,  -3.4296,   5.8935,   0.7705,\n",
      "           1.5316,  -6.1197,  15.5640],\n",
      "        [  6.4000,  -7.4858,   1.8614,  16.5786,  -1.3203,   3.4381,  -3.9284,\n",
      "         -11.2556, -14.8335,  10.2834],\n",
      "        [ 11.7741,   1.4350,   7.0814,  12.9177,   3.6674,  10.9219,   5.5018,\n",
      "          -2.0815,  -8.1199,  15.5450],\n",
      "        [  9.1210, -13.9632,   1.4326,   3.6145,   4.9246,   4.3760,   0.4094,\n",
      "          -8.9105, -12.4441,  10.4647],\n",
      "        [  0.6601,  -2.4729,  -1.4880,   5.3526,  -0.1083,  13.2050,  -4.4375,\n",
      "          -5.4547, -13.5833,   6.2444],\n",
      "        [ -4.0704,  -9.0135,   9.2624,  12.9533, -14.9173,  11.6224,   0.7523,\n",
      "           0.2121,  -2.1215,  15.6007],\n",
      "        [  6.0319, -14.2459,  -2.4496,   3.2690,   2.3257,   3.6219, -10.3257,\n",
      "         -15.0045,  -4.3971,  10.8234],\n",
      "        [  3.2261, -13.6114,   1.0897,  17.5872,   5.1833,   9.8680,  -1.7184,\n",
      "          -1.3558,  -4.3451,   1.2663],\n",
      "        [ -4.2872,  -5.1888,   1.5779,   4.7148,   0.5680,   4.4884,  -0.4011,\n",
      "          -3.7015,  -9.6132,  21.7019],\n",
      "        [  5.0028,  -5.9625,   0.8160,   4.9434,  -5.7050,  13.6000,   0.5803,\n",
      "          -6.0919, -17.1321,   1.8657],\n",
      "        [ -0.3243,  -9.9350,  -0.3645,   4.5873,  -2.4743,   8.8209,   2.4364,\n",
      "          -3.0827, -13.2750,   9.2721],\n",
      "        [ 11.9735, -15.2364,   7.0489,   1.2947,  -5.1131,   8.6976,   7.1316,\n",
      "          -1.0381,  -8.2852,   9.4969],\n",
      "        [ 12.0268,  -7.8124,   6.2204,  10.6726,  -2.0383,   0.1992,   0.6555,\n",
      "          -1.5688, -17.6738,  11.5931],\n",
      "        [  6.6318, -11.4984,   5.4923,  11.5817, -10.2098,  12.7987,   1.9617,\n",
      "          -1.5695, -13.1700,  10.6436],\n",
      "        [  4.5648, -15.7542,   2.5640,   4.1074,   1.1907,  14.8702,  -1.6475,\n",
      "          12.1821,  -2.8485,   2.3195],\n",
      "        [  4.9177,  -4.3571,   6.2650,   7.2969,  -1.1718,   0.7447,  -1.3825,\n",
      "           8.8297,  -5.3673,  15.8352],\n",
      "        [  0.7110,  -6.3887, -11.5795,   2.1491,  -9.2243,  -1.8499,   4.7277,\n",
      "          -6.0806, -13.7687,  18.8032],\n",
      "        [ -2.3313, -17.4512,   0.4960,   4.1341,  -9.2803,  13.7138,   0.3685,\n",
      "           4.2661, -11.8895,   9.2162],\n",
      "        [ -4.3039, -12.3290,   7.4408,   6.5558,  -2.1113,   3.6665,   7.3948,\n",
      "          -3.9996,  -8.7637,  -0.2663],\n",
      "        [ -8.7034, -12.7600,  -4.2837,   4.9859,  -4.5797,   7.2116,  -9.6716,\n",
      "           4.7352,  -3.1499,  12.3948],\n",
      "        [ -6.6181, -20.3205,  20.5986,   9.3552,  -9.1740,   7.1476,  -3.4866,\n",
      "           6.5853, -10.3228,   7.4163],\n",
      "        [  8.8747, -16.7144,  -1.0134,   4.9341,  -5.2070,   7.0979,  -2.2122,\n",
      "          -6.4207, -18.7662,  13.4788],\n",
      "        [  8.0808, -11.8811,   2.1555,  -0.1898,  -2.7218,   6.1235,   2.8799,\n",
      "           0.1346,  -9.6228,   3.7646],\n",
      "        [-10.1223,  -7.7580,  11.4044,  10.2979, -11.4016,   4.7849,  -3.3659,\n",
      "           2.3113,  -8.8869,   9.4089],\n",
      "        [  3.8063,  -1.3879,   8.9709,   5.2061,   6.1299,   7.9991,  -6.9755,\n",
      "           0.9514, -14.9279,  11.8105],\n",
      "        [ -2.0070,  -9.9888,   4.5679,   8.9735,   1.8820,   6.8663,  -2.0074,\n",
      "          -9.2709,  -9.9643,  11.9973],\n",
      "        [ -3.1571, -12.0424,   5.9541,  13.6506, -11.1667,   1.5349,   8.9637,\n",
      "           1.3974,  -5.9733,   6.1799],\n",
      "        [  5.6894, -14.2006,   2.9904,   5.6845,   6.9907,   1.5540,   0.4034,\n",
      "           1.3220, -14.6277,   8.6821],\n",
      "        [  0.9776,   3.9548,  10.1231,   7.8999, -12.7280,   7.1090,  -7.4283,\n",
      "           7.9721,  -6.4746,  13.5113],\n",
      "        [ -4.5382,  -1.8647,   0.5880,   9.2266,   8.9283,  11.8569,  -2.5308,\n",
      "           5.7631,  -5.6641,  -1.4232],\n",
      "        [  1.8112, -10.7615,   5.1230,   9.1003,  -8.0556,   4.6955,   5.0004,\n",
      "          -4.1843,  -8.5440,   6.0054],\n",
      "        [  8.2965,  -7.9038,   4.6594,   3.3077,   2.3920,  12.3907,  -7.5461,\n",
      "          -3.0463,  -8.8405,   5.5787],\n",
      "        [  5.4961, -16.4391,   3.2639,  14.2755,  -8.5577,  10.1938,  -2.0441,\n",
      "           7.9819, -12.7956,  11.4552],\n",
      "        [  9.8531,  -1.2564,   8.4151,  14.0713,  -9.5938,   5.9546,   6.4775,\n",
      "          -3.0767, -15.4149,  21.9036],\n",
      "        [ -2.4129,  -2.9492,   2.9358,   7.1103,  -2.7740,   8.3522,  11.1273,\n",
      "           2.8006, -10.1471,  -0.3028],\n",
      "        [ 20.6687,  -7.7929,  -2.7028,   8.3896,   2.8231,  -4.7199,  -5.1032,\n",
      "           3.8054, -12.4537,   9.5696],\n",
      "        [  2.8223,  -1.6450,   8.4951,   7.8797,   4.0300,   0.3683,   3.9477,\n",
      "          -6.0209, -18.9186,   3.7731],\n",
      "        [  7.8056, -10.1078,   8.4740,   0.6198,  -1.5194,   9.9904,  -0.1705,\n",
      "          -1.7938, -11.5812,   2.3544],\n",
      "        [  4.0713, -14.2318,  -0.1459,  11.8550,  -6.3833,   9.2619,  -5.3392,\n",
      "           9.2999, -12.8208,  16.4201],\n",
      "        [  5.9569, -14.4722,   1.1946,   5.7753,  -4.8642,   9.6900,  -5.7774,\n",
      "           2.2709,  -3.6554,   0.2985],\n",
      "        [ -0.2129, -16.6617,  -2.0341,   6.6050,  -4.7053,  10.9117,  -8.7359,\n",
      "           3.8915,  -2.4771,   8.1266],\n",
      "        [  9.5772,  -6.7900,   8.8540,  -1.2701,  -4.9989,  -0.9146,   2.4703,\n",
      "           0.8640, -17.0285,  13.9358],\n",
      "        [  5.7415,  -4.9337,   2.8243,  16.1486,  -0.8056,  10.2465,  -1.2566,\n",
      "          -8.0870,  -4.4540,  13.2584],\n",
      "        [ -4.0316,  -6.4370,   2.9101,   4.2045,  -5.7888,  15.5725,  10.1406,\n",
      "           9.6255,  -6.0119,   8.3117],\n",
      "        [  1.8256,  -3.8277,   7.2214,  15.3456,  -5.2493,  -7.4574,   9.8190,\n",
      "          -6.5081,  -2.0273,  16.4387],\n",
      "        [  2.6699,  -3.3573,   2.4497,   6.3961,  -3.4190,   0.9399,   1.3740,\n",
      "          -4.0257, -10.2587,  11.1335],\n",
      "        [ 10.2234, -10.0162,  -5.4481,   5.2465,  -1.4510,   3.9376,  -3.3598,\n",
      "           0.8308, -10.9125,   9.4339],\n",
      "        [  6.5364,  -6.2017,  -5.7774,  11.7723,  -0.0170,   8.7179, -10.9889,\n",
      "          -0.7054, -10.6726,   6.8228],\n",
      "        [ 11.6851, -10.9749,  -6.8254,  12.9036,   6.3755,   6.1010,  -3.6347,\n",
      "           7.2632, -12.1448,  15.2452],\n",
      "        [  1.6067,  -1.9967,  -0.4981,  11.6896,  -0.6757,  10.1626,  -0.3534,\n",
      "           1.5395, -13.1963,  -6.4936],\n",
      "        [ -6.1116,  -2.5890,   8.7739,   7.2579,   1.6195,  -0.0367,  -2.1214,\n",
      "           5.9402,  -4.8361,  24.5315],\n",
      "        [  0.1600,  -6.7802,  -7.2976,  12.6976,  -3.6394,  12.7656,  -5.1908,\n",
      "          -5.8023, -15.1597,  -1.5198],\n",
      "        [  1.2670, -10.2854,   2.0261,  11.7804,  -1.5642,   8.9984,  -3.8840,\n",
      "          10.5774,  -4.2256,  -2.1747],\n",
      "        [ 10.6031,  -6.8789,  -0.8322,   1.0948,   1.3383,   6.3775,  -7.3195,\n",
      "           4.7906, -11.6795,  17.3413],\n",
      "        [  7.1347, -10.1496,  -5.8553,   5.3161,  -6.1347,   2.2040,   2.7790,\n",
      "          -2.4961, -11.1324,  14.9359],\n",
      "        [  7.7776, -15.5533,   0.8616,   9.9526,  -4.6043,  10.9101,  -2.0774,\n",
      "          14.5954, -13.6134,   6.0050],\n",
      "        [ -8.0680,   7.0662,   2.7092,  18.0742,  -1.0766,   1.8238,   6.9071,\n",
      "          -3.0049,  -8.7996,  15.8988],\n",
      "        [ -9.5451, -14.3289,   5.2374,   6.8913,  -9.7316,  16.9360,   4.0151,\n",
      "         -11.7585,  -9.8408,   5.5351],\n",
      "        [  4.2792,  -5.2522,  11.4990,   6.6706,  -7.3838,   7.5585,   2.3364,\n",
      "          -9.7251, -16.7079,  13.9739],\n",
      "        [  3.3308,  -3.6306,   8.7540,  19.8707,  -3.4962,  12.1447,   0.8314,\n",
      "          14.1135, -12.9315,   3.2846],\n",
      "        [  4.6409,  -1.0355,   6.2489,  14.2228,   1.0618,   1.0084,   4.1239,\n",
      "          -4.8410,  -9.6646,  13.8052],\n",
      "        [ -4.8837, -11.5613,   5.6384,   4.6074, -12.4060,  13.6098,  -2.7674,\n",
      "           1.4028,  -3.0973,   3.7066]])\n"
     ]
    }
   ],
   "source": [
    "## Solution\n",
    "def activation(x):\n",
    "    return 1/(1+torch.exp(-x))\n",
    "\n",
    "# Flatten the input images\n",
    "inputs = images.view(images.shape[0], -1)\n",
    "\n",
    "# Create parameters\n",
    "w1 = torch.randn(784, 256)\n",
    "b1 = torch.randn(256)\n",
    "\n",
    "w2 = torch.randn(256, 10)\n",
    "b2 = torch.randn(10)\n",
    "\n",
    "h = activation(torch.mm(inputs, w1) + b1)\n",
    "\n",
    "out = torch.mm(h, w2) + b2\n",
    "print(out)"
   ]
  },
  {
   "cell_type": "markdown",
   "metadata": {},
   "source": [
    "Now we have 10 outputs for our network. We want to pass in an image to our network and get out a probability distribution over the classes that tells us the likely class(es) the image belongs to. Something that looks like this:\n",
    "<img src='assets/image_distribution.png' width=500px>\n",
    "\n",
    "Here we see that the probability for each class is roughly the same. This is representing an untrained network, it hasn't seen any data yet so it just returns a uniform distribution with equal probabilities for each class.\n",
    "\n",
    "To calculate this probability distribution, we often use the [**softmax** function](https://en.wikipedia.org/wiki/Softmax_function). Mathematically this looks like\n",
    "\n",
    "$$\n",
    "\\Large \\sigma(x_i) = \\cfrac{e^{x_i}}{\\sum_k^K{e^{x_k}}}\n",
    "$$\n",
    "\n",
    "What this does is squish each input $x_i$ between 0 and 1 and normalizes the values to give you a proper probability distribution where the probabilites sum up to one.\n",
    "\n",
    "> **Exercise:** Implement a function `softmax` that performs the softmax calculation and returns probability distributions for each example in the batch. Note that you'll need to pay attention to the shapes when doing this. If you have a tensor `a` with shape `(64, 10)` and a tensor `b` with shape `(64,)`, doing `a/b` will give you an error because PyTorch will try to do the division across the columns (called broadcasting) but you'll get a size mismatch. The way to think about this is for each of the 64 examples, you only want to divide by one value, the sum in the denominator. So you need `b` to have a shape of `(64, 1)`. This way PyTorch will divide the 10 values in each row of `a` by the one value in each row of `b`. Pay attention to how you take the sum as well. You'll need to define the `dim` keyword in `torch.sum`. Setting `dim=0` takes the sum across the rows while `dim=1` takes the sum across the columns."
   ]
  },
  {
   "cell_type": "code",
   "execution_count": 14,
   "metadata": {},
   "outputs": [
    {
     "name": "stdout",
     "output_type": "stream",
     "text": [
      "torch.Size([64, 10])\n",
      "tensor([1.0000, 1.0000, 1.0000, 1.0000, 1.0000, 1.0000, 1.0000, 1.0000, 1.0000,\n",
      "        1.0000, 1.0000, 1.0000, 1.0000, 1.0000, 1.0000, 1.0000, 1.0000, 1.0000,\n",
      "        1.0000, 1.0000, 1.0000, 1.0000, 1.0000, 1.0000, 1.0000, 1.0000, 1.0000,\n",
      "        1.0000, 1.0000, 1.0000, 1.0000, 1.0000, 1.0000, 1.0000, 1.0000, 1.0000,\n",
      "        1.0000, 1.0000, 1.0000, 1.0000, 1.0000, 1.0000, 1.0000, 1.0000, 1.0000,\n",
      "        1.0000, 1.0000, 1.0000, 1.0000, 1.0000, 1.0000, 1.0000, 1.0000, 1.0000,\n",
      "        1.0000, 1.0000, 1.0000, 1.0000, 1.0000, 1.0000, 1.0000, 1.0000, 1.0000,\n",
      "        1.0000])\n"
     ]
    }
   ],
   "source": [
    "## Solution\n",
    "def softmax(x):\n",
    "    return torch.exp(x)/torch.sum(torch.exp(x), dim=1).view(-1, 1) \n",
    "\n",
    "probabilities = softmax(out)\n",
    "\n",
    "# Does it have the right shape? Should be (64, 10)\n",
    "print(probabilities.shape)\n",
    "# Does it sum to 1?\n",
    "print(probabilities.sum(dim=1))"
   ]
  },
  {
   "cell_type": "markdown",
   "metadata": {},
   "source": [
    "## Building networks with PyTorch\n",
    "\n",
    "PyTorch provides a module `nn` that makes building networks much simpler. Here I'll show you how to build the same one as above with 784 inputs, 256 hidden units, 10 output units and a softmax output."
   ]
  },
  {
   "cell_type": "code",
   "execution_count": 15,
   "metadata": {},
   "outputs": [],
   "source": [
    "from torch import nn"
   ]
  },
  {
   "cell_type": "code",
   "execution_count": 32,
   "metadata": {},
   "outputs": [],
   "source": [
    "class Network(nn.Module):\n",
    "    def __init__(self):\n",
    "        super().__init__()\n",
    "        \n",
    "        # Inputs to hidden layer linear transformation\n",
    "        self.hidden = nn.Linear(784, 256)\n",
    "        # Output layer, 10 units - one for each digit\n",
    "        self.output = nn.Linear(256, 10)\n",
    "        \n",
    "        # Define sigmoid activation and softmax output \n",
    "        self.sigmoid = nn.Sigmoid()\n",
    "        self.softmax = nn.Softmax(dim=1)\n",
    "        \n",
    "    def forward(self, x):\n",
    "        # Pass the input tensor through each of our operations\n",
    "        x = self.hidden(x)\n",
    "        x = self.sigmoid(x)\n",
    "        x = self.output(x)\n",
    "        x = self.softmax(x)\n",
    "        \n",
    "        return x"
   ]
  },
  {
   "cell_type": "markdown",
   "metadata": {},
   "source": [
    "Let's go through this bit by bit.\n",
    "\n",
    "```python\n",
    "class Network(nn.Module):\n",
    "```\n",
    "\n",
    "Here we're inheriting from `nn.Module`. Combined with `super().__init__()` this creates a class that tracks the architecture and provides a lot of useful methods and attributes. It is mandatory to inherit from `nn.Module` when you're creating a class for your network. The name of the class itself can be anything.\n",
    "\n",
    "```python\n",
    "self.hidden = nn.Linear(784, 256)\n",
    "```\n",
    "\n",
    "This line creates a module for a linear transformation, $x\\mathbf{W} + b$, with 784 inputs and 256 outputs and assigns it to `self.hidden`. The module automatically creates the weight and bias tensors which we'll use in the `forward` method. You can access the weight and bias tensors once the network once it's create at `net.hidden.weight` and `net.hidden.bias`.\n",
    "\n",
    "```python\n",
    "self.output = nn.Linear(256, 10)\n",
    "```\n",
    "\n",
    "Similarly, this creates another linear transformation with 256 inputs and 10 outputs.\n",
    "\n",
    "```python\n",
    "self.sigmoid = nn.Sigmoid()\n",
    "self.softmax = nn.Softmax(dim=1)\n",
    "```\n",
    "\n",
    "Here I defined operations for the sigmoid activation and softmax output. Setting `dim=1` in `nn.Softmax(dim=1)` calculates softmax across the columns.\n",
    "\n",
    "```python\n",
    "def forward(self, x):\n",
    "```\n",
    "\n",
    "PyTorch networks created with `nn.Module` must have a `forward` method defined. It takes in a tensor `x` and passes it through the operations you defined in the `__init__` method.\n",
    "\n",
    "```python\n",
    "x = self.hidden(x)\n",
    "x = self.sigmoid(x)\n",
    "x = self.output(x)\n",
    "x = self.softmax(x)\n",
    "```\n",
    "\n",
    "Here the input tensor `x` is passed through each operation a reassigned to `x`. We can see that the input tensor goes through the hidden layer, then a sigmoid function, then the output layer, and finally the softmax function. It doesn't matter what you name the variables here, as long as the inputs and outputs of the operations match the network architecture you want to build. The order in which you define things in the `__init__` method doesn't matter, but you'll need to sequence the operations correctly in the `forward` method.\n",
    "\n",
    "Now we can create a `Network` object."
   ]
  },
  {
   "cell_type": "code",
   "execution_count": 33,
   "metadata": {},
   "outputs": [
    {
     "data": {
      "text/plain": [
       "Network(\n",
       "  (hidden): Linear(in_features=784, out_features=256, bias=True)\n",
       "  (output): Linear(in_features=256, out_features=10, bias=True)\n",
       "  (sigmoid): Sigmoid()\n",
       "  (softmax): Softmax()\n",
       ")"
      ]
     },
     "execution_count": 33,
     "metadata": {},
     "output_type": "execute_result"
    }
   ],
   "source": [
    "# Create the network and look at it's text representation\n",
    "model = Network()\n",
    "model"
   ]
  },
  {
   "cell_type": "markdown",
   "metadata": {},
   "source": [
    "You can define the network somewhat more concisely and clearly using the `torch.nn.functional` module. This is the most common way you'll see networks defined as many operations are simple element-wise functions. We normally import this module as `F`, `import torch.nn.functional as F`."
   ]
  },
  {
   "cell_type": "code",
   "execution_count": 35,
   "metadata": {},
   "outputs": [],
   "source": [
    "import torch.nn.functional as F\n",
    "\n",
    "class Network(nn.Module):\n",
    "    def __init__(self):\n",
    "        super().__init__()\n",
    "        # Inputs to hidden layer linear transformation\n",
    "        self.hidden = nn.Linear(784, 256)\n",
    "        # Output layer, 10 units - one for each digit\n",
    "        self.output = nn.Linear(256, 10)\n",
    "        \n",
    "    def forward(self, x):\n",
    "        # Hidden layer with sigmoid activation\n",
    "        x = F.sigmoid(self.hidden(x))\n",
    "        # Output layer with softmax activation\n",
    "        x = F.softmax(self.output(x), dim=1)\n",
    "        \n",
    "        return x"
   ]
  },
  {
   "cell_type": "markdown",
   "metadata": {},
   "source": [
    "### Activation functions\n",
    "\n",
    "So far we've only been looking at the softmax activation, but in general any function can be used as an activation function. The only requirement is that for a network to approximate a non-linear function, the activation functions must be non-linear. Here are a few more examples of common activation functions: Tanh (hyperbolic tangent), and ReLU (rectified linear unit).\n",
    "\n",
    "<img src=\"assets/activation.png\" width=700px>\n",
    "\n",
    "In practice, the ReLU function is used almost exclusively as the activation function for hidden layers."
   ]
  },
  {
   "cell_type": "markdown",
   "metadata": {},
   "source": [
    "### Your Turn to Build a Network\n",
    "\n",
    "<img src=\"assets/mlp_mnist.png\" width=600px>\n",
    "\n",
    "> **Exercise:** Create a network with 784 input units, a hidden layer with 128 units and a ReLU activation, then a hidden layer with 64 units and a ReLU activation, and finally an output layer with a softmax activation as shown above. You can use a ReLU activation with the `nn.ReLU` module or `F.relu` function."
   ]
  },
  {
   "cell_type": "code",
   "execution_count": 36,
   "metadata": {
    "scrolled": true
   },
   "outputs": [
    {
     "data": {
      "text/plain": [
       "Network(\n",
       "  (fc1): Linear(in_features=784, out_features=128, bias=True)\n",
       "  (fc2): Linear(in_features=128, out_features=64, bias=True)\n",
       "  (fc3): Linear(in_features=64, out_features=10, bias=True)\n",
       ")"
      ]
     },
     "execution_count": 36,
     "metadata": {},
     "output_type": "execute_result"
    }
   ],
   "source": [
    "## Solution\n",
    "\n",
    "class Network(nn.Module):\n",
    "    def __init__(self):\n",
    "        super().__init__()\n",
    "        # Defining the layers, 128, 64, 10 units each\n",
    "        self.fc1 = nn.Linear(784, 128)\n",
    "        self.fc2 = nn.Linear(128, 64)\n",
    "        # Output layer, 10 units - one for each digit\n",
    "        self.fc3 = nn.Linear(64, 10)\n",
    "        \n",
    "    def forward(self, x):\n",
    "        ''' Forward pass through the network, returns the output logits '''\n",
    "        \n",
    "        x = self.fc1(x)\n",
    "        x = F.relu(x)\n",
    "        x = self.fc2(x)\n",
    "        x = F.relu(x)\n",
    "        x = self.fc3(x)\n",
    "        x = F.softmax(x, dim=1)\n",
    "        \n",
    "        return x\n",
    "\n",
    "model = Network()\n",
    "model"
   ]
  },
  {
   "cell_type": "markdown",
   "metadata": {},
   "source": [
    "### Initializing weights and biases\n",
    "\n",
    "The weights and such are automatically initialized for you, but it's possible to customize how they are initialized. The weights and biases are tensors attached to the layer you defined, you can get them with `model.fc1.weight` for instance."
   ]
  },
  {
   "cell_type": "code",
   "execution_count": 37,
   "metadata": {},
   "outputs": [
    {
     "name": "stdout",
     "output_type": "stream",
     "text": [
      "Parameter containing:\n",
      "tensor([[ 4.9304e-03,  2.8374e-02, -3.4996e-02,  ..., -2.8907e-02,\n",
      "          2.2286e-02, -2.9281e-02],\n",
      "        [-2.4403e-02, -1.0075e-02, -1.6961e-02,  ...,  1.0833e-02,\n",
      "         -6.4468e-03, -5.6643e-03],\n",
      "        [ 1.9381e-02, -2.5080e-02, -1.6587e-02,  ..., -7.6957e-03,\n",
      "         -1.8079e-02,  9.2376e-03],\n",
      "        ...,\n",
      "        [-1.7837e-02,  1.8021e-02,  3.2227e-02,  ...,  3.3381e-03,\n",
      "          2.9883e-02, -3.3066e-02],\n",
      "        [ 2.5093e-02, -2.9364e-02, -2.2887e-02,  ...,  1.5846e-02,\n",
      "         -2.2285e-02, -1.4685e-03],\n",
      "        [-2.2014e-02,  1.4544e-02, -3.0576e-02,  ..., -1.5671e-02,\n",
      "         -1.0423e-02,  3.4691e-02]])\n",
      "Parameter containing:\n",
      "tensor(1.00000e-02 *\n",
      "       [-1.2506,  3.5458, -0.3753,  1.6026, -2.4115,  0.9426, -2.5233,\n",
      "        -2.0027, -2.7955, -2.9671,  3.1052,  1.3261,  1.6504,  0.3587,\n",
      "         1.4058,  2.8180, -1.2171, -0.4719, -2.7004, -2.7285, -0.3100,\n",
      "         1.2596, -3.2874,  1.3819,  1.4067, -1.9268, -3.1043, -0.5168,\n",
      "        -2.4498,  2.1705,  2.8858, -0.2769, -2.5356,  3.3110, -1.4604,\n",
      "         2.3339, -1.7465, -3.3184, -0.3178, -3.3095, -2.1713,  0.3652,\n",
      "         3.5455,  1.8558, -2.5197,  2.7417, -2.8382,  0.7431, -1.6739,\n",
      "        -2.1824, -2.1256,  0.0736,  1.5077,  0.3401,  1.1792,  0.1548,\n",
      "         0.3692,  1.7053,  1.2405, -0.9442, -0.8283,  2.0878, -0.2756,\n",
      "         1.7460,  1.8290, -1.2307,  1.9677,  2.1151,  0.9519,  0.5192,\n",
      "        -0.8078, -2.6318, -3.3924, -2.9634, -1.7856,  0.2763, -2.8664,\n",
      "        -0.3816,  0.9541,  3.3759, -0.9398, -1.5630,  2.4550,  1.5186,\n",
      "        -0.1872, -1.9563, -3.1439, -1.6356,  2.2492, -1.7019,  1.8173,\n",
      "         0.8525,  0.2180, -2.9890,  2.3193, -2.0188, -0.3807,  1.9013,\n",
      "         2.9767,  2.3203,  2.9716,  1.1338, -0.8389,  0.3713,  2.7656,\n",
      "         3.2654,  1.7992, -0.3532, -2.9921,  2.3456,  0.6634, -2.3050,\n",
      "        -3.4311, -0.0172, -0.5522, -0.9247, -3.4954,  0.1406, -3.0330,\n",
      "        -3.0880,  2.6181,  0.7714,  2.9641, -2.0138,  0.3408, -1.5506,\n",
      "        -2.2790,  0.6546])\n"
     ]
    }
   ],
   "source": [
    "print(model.fc1.weight)\n",
    "print(model.fc1.bias)"
   ]
  },
  {
   "cell_type": "markdown",
   "metadata": {},
   "source": [
    "For custom initialization, we want to modify these tensors in place. These are actually autograd *Variables*, so we need to get back the actual tensors with `model.fc1.weight.data`. Once we have the tensors, we can fill them with zeros (for biases) or random normal values."
   ]
  },
  {
   "cell_type": "code",
   "execution_count": 38,
   "metadata": {},
   "outputs": [
    {
     "data": {
      "text/plain": [
       "tensor([ 0.,  0.,  0.,  0.,  0.,  0.,  0.,  0.,  0.,  0.,  0.,  0.,\n",
       "         0.,  0.,  0.,  0.,  0.,  0.,  0.,  0.,  0.,  0.,  0.,  0.,\n",
       "         0.,  0.,  0.,  0.,  0.,  0.,  0.,  0.,  0.,  0.,  0.,  0.,\n",
       "         0.,  0.,  0.,  0.,  0.,  0.,  0.,  0.,  0.,  0.,  0.,  0.,\n",
       "         0.,  0.,  0.,  0.,  0.,  0.,  0.,  0.,  0.,  0.,  0.,  0.,\n",
       "         0.,  0.,  0.,  0.,  0.,  0.,  0.,  0.,  0.,  0.,  0.,  0.,\n",
       "         0.,  0.,  0.,  0.,  0.,  0.,  0.,  0.,  0.,  0.,  0.,  0.,\n",
       "         0.,  0.,  0.,  0.,  0.,  0.,  0.,  0.,  0.,  0.,  0.,  0.,\n",
       "         0.,  0.,  0.,  0.,  0.,  0.,  0.,  0.,  0.,  0.,  0.,  0.,\n",
       "         0.,  0.,  0.,  0.,  0.,  0.,  0.,  0.,  0.,  0.,  0.,  0.,\n",
       "         0.,  0.,  0.,  0.,  0.,  0.,  0.,  0.])"
      ]
     },
     "execution_count": 38,
     "metadata": {},
     "output_type": "execute_result"
    }
   ],
   "source": [
    "# Set biases to all zeros\n",
    "model.fc1.bias.data.fill_(0)"
   ]
  },
  {
   "cell_type": "code",
   "execution_count": 39,
   "metadata": {},
   "outputs": [
    {
     "data": {
      "text/plain": [
       "tensor([[-4.0528e-03, -2.2254e-02,  1.6029e-02,  ..., -4.3539e-03,\n",
       "          7.5306e-03,  2.2055e-03],\n",
       "        [-6.3308e-03, -1.6700e-04, -1.7030e-03,  ...,  1.0833e-02,\n",
       "         -6.6713e-03,  5.7861e-03],\n",
       "        [-7.6978e-03, -2.4349e-03,  7.0259e-03,  ...,  8.9843e-04,\n",
       "         -1.9777e-03,  1.6034e-02],\n",
       "        ...,\n",
       "        [-1.5193e-02,  1.3547e-02,  3.1446e-03,  ...,  8.4297e-03,\n",
       "          1.2045e-02, -3.0503e-03],\n",
       "        [ 2.1186e-02,  4.4271e-03,  1.6368e-03,  ..., -1.2483e-02,\n",
       "         -1.3648e-03, -7.7931e-03],\n",
       "        [ 2.1757e-02, -1.7008e-02,  6.1167e-03,  ...,  7.2243e-03,\n",
       "         -1.5407e-03, -4.7865e-03]])"
      ]
     },
     "execution_count": 39,
     "metadata": {},
     "output_type": "execute_result"
    }
   ],
   "source": [
    "# sample from random normal with standard dev = 0.01\n",
    "model.fc1.weight.data.normal_(std=0.01)"
   ]
  },
  {
   "cell_type": "markdown",
   "metadata": {},
   "source": [
    "### Forward pass\n",
    "\n",
    "Now that we have a network, let's see what happens when we pass in an image."
   ]
  },
  {
   "cell_type": "code",
   "execution_count": 41,
   "metadata": {},
   "outputs": [
    {
     "data": {
      "image/png": "[encoded data removed]",
      "text/plain": [
       "<Figure size 432x648 with 2 Axes>"
      ]
     },
     "metadata": {
      "image/png": {
       "height": 224,
       "width": 423
      }
     },
     "output_type": "display_data"
    }
   ],
   "source": [
    "# Grab some data \n",
    "dataiter = iter(trainloader)\n",
    "images, labels = dataiter.next()\n",
    "\n",
    "# Resize images into a 1D vector, new shape is (batch size, color channels, image pixels) \n",
    "images.resize_(64, 1, 784)\n",
    "# or images.resize_(images.shape[0], 1, 784) to automatically get batch size\n",
    "\n",
    "# Forward pass through the network\n",
    "img_idx = 0\n",
    "ps = model.forward(images[img_idx,:])\n",
    "\n",
    "img = images[img_idx]\n",
    "helper.view_classify(img.view(1, 28, 28), ps)"
   ]
  },
  {
   "cell_type": "markdown",
   "metadata": {},
   "source": [
    "As you can see above, our network has basically no idea what this digit is. It's because we haven't trained it yet, all the weights are random!\n",
    "\n",
    "### Using `nn.Sequential`\n",
    "\n",
    "PyTorch provides a convenient way to build networks like this where a tensor is passed sequentially through operations, `nn.Sequential` ([documentation](https://pytorch.org/docs/master/nn.html#torch.nn.Sequential)). Using this to build the equivalent network:"
   ]
  },
  {
   "cell_type": "code",
   "execution_count": 44,
   "metadata": {},
   "outputs": [
    {
     "name": "stdout",
     "output_type": "stream",
     "text": [
      "Sequential(\n",
      "  (0): Linear(in_features=784, out_features=128, bias=True)\n",
      "  (1): ReLU()\n",
      "  (2): Linear(in_features=128, out_features=64, bias=True)\n",
      "  (3): ReLU()\n",
      "  (4): Linear(in_features=64, out_features=10, bias=True)\n",
      "  (5): Softmax()\n",
      ")\n"
     ]
    },
    {
     "data": {
      "image/png": "[encoded data removed]",
      "text/plain": [
       "<Figure size 432x648 with 2 Axes>"
      ]
     },
     "metadata": {
      "image/png": {
       "height": 224,
       "width": 423
      }
     },
     "output_type": "display_data"
    }
   ],
   "source": [
    "# Hyperparameters for our network\n",
    "input_size = 784\n",
    "hidden_sizes = [128, 64]\n",
    "output_size = 10\n",
    "\n",
    "# Build a feed-forward network\n",
    "model = nn.Sequential(nn.Linear(input_size, hidden_sizes[0]),\n",
    "                      nn.ReLU(),\n",
    "                      nn.Linear(hidden_sizes[0], hidden_sizes[1]),\n",
    "                      nn.ReLU(),\n",
    "                      nn.Linear(hidden_sizes[1], output_size),\n",
    "                      nn.Softmax(dim=1))\n",
    "print(model)\n",
    "\n",
    "# Forward pass through the network and display output\n",
    "images, labels = next(iter(trainloader))\n",
    "images.resize_(images.shape[0], 1, 784)\n",
    "ps = model.forward(images[0,:])\n",
    "helper.view_classify(images[0].view(1, 28, 28), ps)"
   ]
  },
  {
   "cell_type": "markdown",
   "metadata": {},
   "source": [
    "The operations are availble by passing in the appropriate index. For example, if you want to get first Linear operation and look at the weights, you'd use `model[0]`."
   ]
  },
  {
   "cell_type": "code",
   "execution_count": 47,
   "metadata": {},
   "outputs": [
    {
     "name": "stdout",
     "output_type": "stream",
     "text": [
      "Linear(in_features=784, out_features=128, bias=True)\n"
     ]
    },
    {
     "data": {
      "text/plain": [
       "Parameter containing:\n",
       "tensor([[ 2.1420e-02,  2.4218e-02, -2.7080e-02,  ...,  3.1151e-02,\n",
       "         -5.9102e-03,  2.4690e-02],\n",
       "        [ 8.8304e-03,  2.9598e-02, -2.1065e-03,  ..., -6.7453e-03,\n",
       "          2.3991e-02, -3.5350e-02],\n",
       "        [-3.0060e-02, -2.3387e-02, -1.1618e-03,  ...,  1.9228e-02,\n",
       "          1.9096e-02, -1.9611e-02],\n",
       "        ...,\n",
       "        [ 5.2248e-03,  2.9266e-03,  2.6125e-02,  ..., -2.9766e-03,\n",
       "         -1.4331e-02,  2.9800e-02],\n",
       "        [-3.2468e-02,  2.6645e-02,  1.2394e-02,  ...,  1.1543e-02,\n",
       "         -1.0823e-02, -1.2838e-02],\n",
       "        [ 1.0425e-02, -1.8188e-02,  1.3592e-02,  ...,  5.4789e-03,\n",
       "         -5.8753e-03,  2.1930e-02]])"
      ]
     },
     "execution_count": 47,
     "metadata": {},
     "output_type": "execute_result"
    }
   ],
   "source": [
    "print(model[0])\n",
    "model[0].weight"
   ]
  },
  {
   "cell_type": "markdown",
   "metadata": {},
   "source": [
    "You can also pass in an `OrderedDict` to name the individual layers and operations, instead of using incremental integers. Note that dictionary keys must be unique, so _each operation must have a different name_."
   ]
  },
  {
   "cell_type": "code",
   "execution_count": 48,
   "metadata": {},
   "outputs": [
    {
     "data": {
      "text/plain": [
       "Sequential(\n",
       "  (fc1): Linear(in_features=784, out_features=128, bias=True)\n",
       "  (relu1): ReLU()\n",
       "  (fc2): Linear(in_features=128, out_features=64, bias=True)\n",
       "  (relu2): ReLU()\n",
       "  (output): Linear(in_features=64, out_features=10, bias=True)\n",
       "  (softmax): Softmax()\n",
       ")"
      ]
     },
     "execution_count": 48,
     "metadata": {},
     "output_type": "execute_result"
    }
   ],
   "source": [
    "from collections import OrderedDict\n",
    "model = nn.Sequential(OrderedDict([\n",
    "                      ('fc1', nn.Linear(input_size, hidden_sizes[0])),\n",
    "                      ('relu1', nn.ReLU()),\n",
    "                      ('fc2', nn.Linear(hidden_sizes[0], hidden_sizes[1])),\n",
    "                      ('relu2', nn.ReLU()),\n",
    "                      ('output', nn.Linear(hidden_sizes[1], output_size)),\n",
    "                      ('softmax', nn.Softmax(dim=1))]))\n",
    "model"
   ]
  },
  {
   "cell_type": "markdown",
   "metadata": {},
   "source": [
    "Now you can access layers either by integer or the name"
   ]
  },
  {
   "cell_type": "code",
   "execution_count": 52,
   "metadata": {},
   "outputs": [
    {
     "name": "stdout",
     "output_type": "stream",
     "text": [
      "Linear(in_features=784, out_features=128, bias=True)\n",
      "Linear(in_features=784, out_features=128, bias=True)\n"
     ]
    }
   ],
   "source": [
    "print(model[0])\n",
    "print(model.fc1)"
   ]
  },
  {
   "cell_type": "markdown",
   "metadata": {},
   "source": [
    "In the next notebook, we'll see how we can train a neural network to accuractly predict the numbers appearing in the MNIST images."
   ]
  }
 ],
 "metadata": {
  "kernelspec": {
   "display_name": "Python 3",
   "language": "python",
   "name": "python3"
  },
  "language_info": {
   "codemirror_mode": {
    "name": "ipython",
    "version": 3
   },
   "file_extension": ".py",
   "mimetype": "text/x-python",
   "name": "python",
   "nbconvert_exporter": "python",
   "pygments_lexer": "ipython3",
   "version": "3.6.6"
  }
 },
 "nbformat": 4,
 "nbformat_minor": 2
}
