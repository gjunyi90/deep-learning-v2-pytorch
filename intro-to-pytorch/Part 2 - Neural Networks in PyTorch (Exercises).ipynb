{
 "cells": [
  {
   "cell_type": "markdown",
   "metadata": {},
   "source": [
    "# Neural networks with PyTorch\n",
    "\n",
    "Deep learning networks tend to be massive with dozens or hundreds of layers, that's where the term \"deep\" comes from. You can build one of these deep networks using only weight matrices as we did in the previous notebook, but in general it's very cumbersome and difficult to implement. PyTorch has a nice module `nn` that provides a nice way to efficiently build large neural networks."
   ]
  },
  {
   "cell_type": "code",
   "execution_count": 1,
   "metadata": {},
   "outputs": [],
   "source": [
    "# Import necessary packages\n",
    "\n",
    "%matplotlib inline\n",
    "%config InlineBackend.figure_format = 'retina'\n",
    "\n",
    "import numpy as np\n",
    "import torch\n",
    "\n",
    "import helper\n",
    "\n",
    "import matplotlib.pyplot as plt"
   ]
  },
  {
   "cell_type": "markdown",
   "metadata": {},
   "source": [
    "\n",
    "Now we're going to build a larger network that can solve a (formerly) difficult problem, identifying text in an image. Here we'll use the MNIST dataset which consists of greyscale handwritten digits. Each image is 28x28 pixels, you can see a sample below\n",
    "\n",
    "<img src='assets/mnist.png'>\n",
    "\n",
    "Our goal is to build a neural network that can take one of these images and predict the digit in the image.\n",
    "\n",
    "First up, we need to get our dataset. This is provided through the `torchvision` package. The code below will download the MNIST dataset, then create training and test datasets for us. Don't worry too much about the details here, you'll learn more about this later."
   ]
  },
  {
   "cell_type": "code",
   "execution_count": 2,
   "metadata": {},
   "outputs": [],
   "source": [
    "### Run this cell\n",
    "\n",
    "from torchvision import datasets, transforms\n",
    "\n",
    "# Define a transform to normalize the data\n",
    "transform = transforms.Compose([transforms.ToTensor(),\n",
    "                              transforms.Normalize((0.5, 0.5, 0.5), (0.5, 0.5, 0.5)),\n",
    "                              ])\n",
    "\n",
    "# Download and load the training data\n",
    "trainset = datasets.MNIST('MNIST_data/', download=True, train=True, transform=transform)\n",
    "trainloader = torch.utils.data.DataLoader(trainset, batch_size=64, shuffle=True)"
   ]
  },
  {
   "cell_type": "markdown",
   "metadata": {},
   "source": [
    "We have the training data loaded into `trainloader` and we make that an iterator with `iter(trainloader)`. Later, we'll use this to loop through the dataset for training, like\n",
    "\n",
    "```python\n",
    "for image, label in trainloader:\n",
    "    ## do things with images and labels\n",
    "```\n",
    "\n",
    "You'll notice I created the `trainloader` with a batch size of 64, and `shuffle=True`. The batch size is the number of images we get in one iteration from the data loader and pass through our network, often called a *batch*. And `shuffle=True` tells it to shuffle the dataset every time we start going through the data loader again. But here I'm just grabbing the first batch so we can check out the data. We can see below that `images` is just a tensor with size `(64, 1, 28, 28)`. So, 64 images per batch, 1 color channel, and 28x28 images."
   ]
  },
  {
   "cell_type": "code",
   "execution_count": 5,
   "metadata": {},
   "outputs": [
    {
     "name": "stdout",
     "output_type": "stream",
     "text": [
      "<class 'torch.Tensor'>\n",
      "torch.Size([64, 1, 28, 28])\n",
      "torch.Size([64])\n"
     ]
    }
   ],
   "source": [
    "dataiter = iter(trainloader)\n",
    "images, labels = dataiter.next()\n",
    "print(type(images))\n",
    "print(images.shape)\n",
    "print(labels.shape)"
   ]
  },
  {
   "cell_type": "markdown",
   "metadata": {},
   "source": [
    "This is what one of the images looks like. "
   ]
  },
  {
   "cell_type": "code",
   "execution_count": 6,
   "metadata": {},
   "outputs": [
    {
     "data": {
      "image/png": "[encoded data removed]",
      "text/plain": [
       "<Figure size 432x288 with 1 Axes>"
      ]
     },
     "metadata": {
      "image/png": {
       "height": 250,
       "width": 253
      },
      "needs_background": "light"
     },
     "output_type": "display_data"
    }
   ],
   "source": [
    "plt.imshow(images[1].numpy().squeeze(), cmap='Greys_r');"
   ]
  },
  {
   "cell_type": "markdown",
   "metadata": {},
   "source": [
    "First, let's try to build a simple network for this dataset using weight matrices and matrix multiplications. Then, we'll see how to do it using PyTorch's `nn` module which provides a much more convenient and powerful method for defining network architectures.\n",
    "\n",
    "The networks you've seen so far are called *fully-connected* or *dense* networks. Each unit in one layer is connected to each unit in the next layer. In fully-connected networks, the input to each layer must be a one-dimensional vector (which can be stacked into a 2D tensor as a batch of multiple examples). However, our images are 28x28 2D tensors, so we need to convert them into 1D vectors. Thinking about sizes, we need to convert the batch of images with shape `(64, 1, 28, 28)` to a have a shape of `(64, 784)`, 784 is 28 times 28. This is typically called *flattening*, we flattened the 2D images into 1D vectors.\n",
    "\n",
    "Previously you built a network with one output unit. Here we need 10 output units, one for each digit. We want our network to predict the digit shown in an image, so what we'll do is calculate probabilities that the image is of any one digit or class. This ends up being a discrete probability distribution over the classes (digits) that tells us the most likely class for the image. That means we need 10 output units for the 10 classes (digits). We'll see how to convert the network output into a probability distribution next.\n",
    "\n",
    "> **Exercise:** Flatten the batch of images `images`. Then build a multi-layer network with 784 input units, 256 hidden units, and 10 output units using random tensors for the weights and biases. For now, use a sigmoid activation for the hidden layer. Leave the output layer without an activation, we'll add one that gives us a probability distribution next."
   ]
  },
  {
   "cell_type": "code",
   "execution_count": 18,
   "metadata": {},
   "outputs": [
    {
     "name": "stdout",
     "output_type": "stream",
     "text": [
      "images.shape:  torch.Size([64, 1, 28, 28])\n",
      "inputs.shape:  torch.Size([64, 784])\n",
      "torch.Size([784, 256])\n",
      "tensor([[-13.8431,  -5.5634,  -8.0356,   9.3896,  -6.0210,  -8.6964,   6.3724,\n",
      "          -2.9534,  -3.8806,  -3.1154],\n",
      "        [-15.6604,  -6.7393, -15.8945,  11.4033,  -8.3402, -13.4164,   9.2602,\n",
      "          -4.5448,  -6.2054,  -0.5437],\n",
      "        [-17.4924,  -2.6577,  -7.4102,   1.1523,  -7.0622,   0.4321,  12.5879,\n",
      "          -2.1916,  -3.7799,   3.8984],\n",
      "        [ -1.3021,  -1.4015,  -6.3080,   7.5358,  -6.8862,   0.0993,   5.9375,\n",
      "          -2.7632,  -3.3087,   3.3125],\n",
      "        [ -4.6991,   3.5629, -10.3917,   4.1237,  -8.7462,  -6.7495,  15.4606,\n",
      "           1.9665,  -1.5680,  -0.2453],\n",
      "        [ -7.0541, -14.8733,   1.9633,  10.3067,   1.7643,  -0.0429,   6.6446,\n",
      "          -1.9020, -12.7109,  -5.2405],\n",
      "        [ -6.3366,  -6.5096,  -5.0461,   5.3997, -10.2309,  -3.9538,  21.5887,\n",
      "          -0.5804, -10.3579,  -5.1624],\n",
      "        [ -7.3679,   0.3770,  -8.7558,  17.6804,  -8.9058,   1.7973,   7.6352,\n",
      "          -1.7773,  -1.8867,  -8.2209],\n",
      "        [ -3.9576,   1.9605,   0.3845,   7.1363, -10.4151,  -4.5196,   2.8015,\n",
      "          -2.0614,  -7.4308,  -4.1772],\n",
      "        [ -8.6325,  -7.9742,  -5.9683,  16.2496,  -9.0730,  -6.3570,  22.3622,\n",
      "          -0.7523,  -6.3269,   3.4313],\n",
      "        [ -8.2015,  -6.1954,  -1.9223,  12.5139,   0.4712,  -6.5490,   7.0903,\n",
      "          -2.2894,  -0.3810, -12.9935],\n",
      "        [-10.7190,  -6.4284,   2.2385,  10.4046,  -6.9681,  -9.0114,  12.9845,\n",
      "           0.6871,  -5.1268, -11.0898],\n",
      "        [-10.5267,  -4.1400, -13.1674,   2.0580,  -5.7626,  -6.6001,   7.3070,\n",
      "          -4.2014,   0.5804,  -0.3514],\n",
      "        [-12.8841,  -8.5148,  -5.5718,   0.9679,  -7.6118,  -6.2496,  21.7839,\n",
      "           0.5596,  -5.3483,   0.8360],\n",
      "        [ -4.8303,  -9.9654,  -3.8883,  10.0945,  -1.7961,  -2.5377,   6.3946,\n",
      "           1.4479,  -2.9136,   4.0333],\n",
      "        [ -6.5579,   6.8851,  -8.9008,   4.7200,  -7.2246, -11.8886,  14.7101,\n",
      "           5.9201,  -7.2909,   1.0186],\n",
      "        [-12.5175, -17.2024,   3.3352,   2.7004,  -9.0520, -10.2059,  16.5345,\n",
      "          -0.3828,  -9.7316,   2.1390],\n",
      "        [-14.8684,   0.8239, -14.4819,  -3.5342,  -6.3013,  -7.5511,   3.9328,\n",
      "          -3.6348,   0.5452,   1.4888],\n",
      "        [ -9.8553,  -3.9400,  -4.6657,   9.4378,  -4.4951,  -6.6080,   5.2548,\n",
      "          -4.2816,   4.1241,   2.5340],\n",
      "        [ -4.0525,  -0.3469,  -7.3118,   0.3315,  -8.8779, -14.5765,   4.1455,\n",
      "           0.3311,  -5.7851,   3.7878],\n",
      "        [ -8.6455,   3.9318,  -5.9283,  -4.1868,  -2.6120, -13.2322,   2.7716,\n",
      "          -3.7035,  -6.3415, -11.0105],\n",
      "        [-12.7521,  -9.4884, -13.1534,  -0.4171, -11.2289,  -3.8469,   2.6809,\n",
      "          -2.2603,  -9.6410,   1.7094],\n",
      "        [-12.4062, -20.4276,   1.3755,  -0.2980,  -3.0113,  -0.9034,  11.9659,\n",
      "          -6.6627,  -4.7213,  -2.9997],\n",
      "        [-19.3487, -15.0937, -16.6792,   7.8390,  -0.7222, -11.2116,  17.2397,\n",
      "          -3.2725,   1.2910,   4.3329],\n",
      "        [ -4.6568,  -8.8830,  -7.3568,   0.2285, -11.0679,  -2.9076,   7.1361,\n",
      "          -1.9082,  -2.6982,  -2.8014],\n",
      "        [-15.3111,   5.9109,  -4.5679,   1.4725, -16.6269,  -2.8224,  16.4655,\n",
      "          -1.3970,  -7.4992,   6.9686],\n",
      "        [-13.1915, -10.0023,  -4.0440,  -0.8548,  -0.6953,  -0.6773,   7.8796,\n",
      "          -0.6598,  -6.0209,  -6.0341],\n",
      "        [ -4.8346,  -8.5093,  -0.0265,   8.2037,   1.7362,  -7.6385,  11.5984,\n",
      "          -3.6338,  -3.8844,  -6.1617],\n",
      "        [-14.2155,  -4.9348, -13.8553,  -2.3929, -10.2866,  -7.8691,  10.6013,\n",
      "           9.5161,   4.1123,  12.8985],\n",
      "        [-14.3005,  -9.1808,  -7.2563,   4.5078,  -4.9720, -14.9210,   7.4825,\n",
      "          -2.2273, -11.9043,   3.1093],\n",
      "        [-16.2052,  -4.0640, -15.1547,  -4.8927,   5.7790,  -9.4736,  10.0839,\n",
      "          -5.4088,  -9.1907,   4.4836],\n",
      "        [-10.4114,  -1.6011,  -8.0862,   7.1979,  -3.5077, -19.0284,  16.9974,\n",
      "           4.1729,  -0.3427,  -7.6172],\n",
      "        [-13.5107,  -9.2841, -12.9386,  -1.4134,  -2.5009,  -4.8335,  11.8559,\n",
      "           5.8712,  -5.4388,   2.1295],\n",
      "        [-10.3850, -14.3829,  -6.1082,  -3.3573,  -4.6624,  -2.9944,  15.5840,\n",
      "           5.6476,   2.8330,   0.6382],\n",
      "        [-11.6813, -12.3454,  -3.6049,   7.9976,  -5.2711,  -5.4570,   5.1036,\n",
      "          -3.3071,  -2.0078, -10.2707],\n",
      "        [ -9.0610,  -4.4704,  -4.6634,   2.0550,  -9.5134, -16.2698,  15.4541,\n",
      "           8.7410, -10.3041,   2.0927],\n",
      "        [ -5.2819,   2.5861,  -6.3655,   0.4902, -13.3631,   0.0093,  -5.4199,\n",
      "          -7.4608,  -7.5680,   0.7247],\n",
      "        [ -7.3733,   2.1569,   0.9697,   1.7138,  -9.5375,  -6.6202,  21.2750,\n",
      "           4.0307,  -2.1720,  -9.1517],\n",
      "        [ -9.3574,  -6.6561,  -4.0358,   3.4653, -11.7208, -10.5324,   2.4420,\n",
      "          -2.9108,  -3.4808,  -3.9103],\n",
      "        [-14.6025,  -0.6151,  -6.0063,   3.0791,  -8.8250, -10.3327,  12.3483,\n",
      "           3.6558,  -4.5172,   5.2829],\n",
      "        [-11.2714,  -9.5741,  -6.4155,   7.2388,  -6.7528,  -7.9783,  13.7319,\n",
      "          -0.9541, -11.5106,  -3.1269],\n",
      "        [ -8.6776, -11.6096,  -3.6873,   8.8801,   4.2535,  -9.5002,  13.7840,\n",
      "          -3.0470,   2.2047,  -9.7694],\n",
      "        [-12.0451,  -6.1947,   7.9989,  18.4279,  -1.1325,  -5.2598,  13.3178,\n",
      "          -2.6614,  -7.5243,  -7.7784],\n",
      "        [-15.0719,  -8.4396,  -8.1696,   0.8335, -18.5672,  -6.1691,  17.7311,\n",
      "          -2.6234,   0.8841,   1.1378],\n",
      "        [-11.8026,  -2.3979,  -6.1122,   6.1205,  -6.8466,  -4.8111,   4.3833,\n",
      "          -2.8296,  -1.3955, -11.2253],\n",
      "        [-17.5832,  -8.7300,  -2.4041,   9.2565,  -8.6701,  -7.9576,  12.5924,\n",
      "          -2.2886,  -5.0429,   1.5764],\n",
      "        [ -6.1242,  -7.4754,   2.2819,   1.5270,  -5.8734,  -6.8206,   1.6662,\n",
      "          -1.9872,   1.5435, -13.2911],\n",
      "        [-11.5905,  -6.5509,  -5.4357,  10.4503, -10.3469, -10.5256,  14.1446,\n",
      "           4.5724,   2.7557,  -0.8008],\n",
      "        [-12.3773,  -0.6098,  -5.7899,   5.2342,  -4.9558, -12.4619,   7.9974,\n",
      "           2.5227,  -9.2561,   2.0879],\n",
      "        [ -5.5212,  -9.2939,  -4.8677,   1.3237,   4.0617,  -9.7712,   4.8029,\n",
      "         -13.5742,  -8.6483,  -3.1569],\n",
      "        [ -8.2459,  -3.9614,  -3.4882,   6.1131, -13.4782, -15.8551,   6.9963,\n",
      "           2.3050,  -5.5401,   5.6273],\n",
      "        [ -3.6161, -11.8574,  -3.4982,   7.0461,  -3.2732,  -4.2791,   6.1594,\n",
      "          -0.2502,  -3.5238,  -0.1924],\n",
      "        [ -4.8101,  -0.1683,   2.9655,   2.1045,  -3.6067,  -9.3518,  13.9273,\n",
      "           0.9596,  -7.2690,  -3.8089],\n",
      "        [-17.9522,  -6.7961, -26.1194,  11.1227, -10.9412, -12.7858,  11.5700,\n",
      "          -1.2729,  -3.2846,  -0.4263],\n",
      "        [ -5.8374,  -9.1559,  -0.2215,   1.2244,  10.6608,  -5.7349,   6.1448,\n",
      "           4.2086,   8.4272,  -9.3906],\n",
      "        [-15.2552,   6.5228, -12.0197,  -1.6553,  -9.9916,  -5.6085,   6.5802,\n",
      "          -3.7412, -12.6342,  -2.0225],\n",
      "        [ -7.1034,  -4.0465,  -7.3625,   9.9701,  -8.9511,  -1.5879,   8.2346,\n",
      "           4.9170,  -6.8994,  -5.0646],\n",
      "        [-14.8538,  -8.1845,   5.1487,   3.6444,  -4.6899, -12.8509,   6.7158,\n",
      "          -3.5121,   4.9648,  -1.7267],\n",
      "        [-14.5113,  -3.1604,  -0.9196,   0.5799,  -2.7764,  -3.8855,   8.2160,\n",
      "          -7.2901,  -7.2278,  -4.3770],\n",
      "        [ -4.4175,   2.3658,  -7.3668,   7.9600,  -6.5747, -14.2868,   8.2498,\n",
      "           0.0982,  -3.1479,   4.9622],\n",
      "        [-13.8870,  -5.0454,  -3.6544,  10.5358,  -5.1747,  -7.8803,  15.6597,\n",
      "          10.6785,  -2.6336,  -3.7422],\n",
      "        [-18.3419,  -7.3004, -10.8854,   8.6931,  -4.7033,  -4.8178,  17.0537,\n",
      "          -7.3010,  -3.6620,  -1.9671],\n",
      "        [-15.0929,   4.1905, -11.8729,   0.3581, -11.9814,  -1.3447,   4.0556,\n",
      "          -5.8084,  -4.8878,  -8.8566],\n",
      "        [ -5.7477,   0.8086,  -2.2440,   8.5531,  -6.4227,  -8.7122,   3.6124,\n",
      "           0.9718,   1.0822,  -4.3376]])\n"
     ]
    }
   ],
   "source": [
    "## Your solution\n",
    "def activation(x):\n",
    "    return 1/(1+torch.exp(-x))\n",
    "print('images.shape: ',images.shape)\n",
    "inputs = images.view(images.shape[0],-1)  # means just input the 64 as the number you know, then view will settle the rest with -1 as input afterwards\n",
    "print('inputs.shape: ',inputs.shape)\n",
    "# Create parameters\n",
    "w1 = torch.randn(784, 256)\n",
    "b1 = torch.randn(256)\n",
    "print(w1.shape)\n",
    "w2 = torch.randn(256, 10)\n",
    "b2 = torch.randn(10)\n",
    "\n",
    "h = activation(torch.mm(inputs, w1) + b1)\n",
    "\n",
    "out = torch.mm(h, w2) + b2\n",
    "print(out)"
   ]
  },
  {
   "cell_type": "markdown",
   "metadata": {},
   "source": [
    "Now we have 10 outputs for our network. We want to pass in an image to our network and get out a probability distribution over the classes that tells us the likely class(es) the image belongs to. Something that looks like this:\n",
    "<img src='assets/image_distribution.png' width=500px>\n",
    "\n",
    "Here we see that the probability for each class is roughly the same. This is representing an untrained network, it hasn't seen any data yet so it just returns a uniform distribution with equal probabilities for each class.\n",
    "\n",
    "To calculate this probability distribution, we often use the [**softmax** function](https://en.wikipedia.org/wiki/Softmax_function). Mathematically this looks like\n",
    "\n",
    "$$\n",
    "\\Large \\sigma(x_i) = \\cfrac{e^{x_i}}{\\sum_k^K{e^{x_k}}}\n",
    "$$\n",
    "\n",
    "What this does is squish each input $x_i$ between 0 and 1 and normalizes the values to give you a proper probability distribution where the probabilites sum up to one.\n",
    "\n",
    "> **Exercise:** Implement a function `softmax` that performs the softmax calculation and returns probability distributions for each example in the batch. Note that you'll need to pay attention to the shapes when doing this. If you have a tensor `a` with shape `(64, 10)` and a tensor `b` with shape `(64,)`, doing `a/b` will give you an error because PyTorch will try to do the division across the columns (called broadcasting) but you'll get a size mismatch. The way to think about this is for each of the 64 examples, you only want to divide by one value, the sum in the denominator. So you need `b` to have a shape of `(64, 1)`. This way PyTorch will divide the 10 values in each row of `a` by the one value in each row of `b`. Pay attention to how you take the sum as well. You'll need to define the `dim` keyword in `torch.sum`. Setting `dim=0` takes the sum across the rows while `dim=1` takes the sum across the columns."
   ]
  },
  {
   "cell_type": "code",
   "execution_count": 14,
   "metadata": {},
   "outputs": [
    {
     "data": {
      "text/plain": [
       "torch.Size([64, 10])"
      ]
     },
     "execution_count": 14,
     "metadata": {},
     "output_type": "execute_result"
    }
   ],
   "source": [
    "out.shape"
   ]
  },
  {
   "cell_type": "code",
   "execution_count": 43,
   "metadata": {},
   "outputs": [
    {
     "name": "stdout",
     "output_type": "stream",
     "text": [
      "[ 1  2  3  4  5  6  7  8  9 10]\n",
      "tensor([ 1,  2,  3,  4,  5,  6,  7,  8,  9, 10], dtype=torch.int32)\n",
      "tensor([[ 1],\n",
      "        [ 2],\n",
      "        [ 3],\n",
      "        [ 4],\n",
      "        [ 5],\n",
      "        [ 6],\n",
      "        [ 7],\n",
      "        [ 8],\n",
      "        [ 9],\n",
      "        [10]], dtype=torch.int32)\n",
      "tensor(55)\n",
      "tensor([ 1,  2,  3,  4,  5,  6,  7,  8,  9, 10])\n"
     ]
    }
   ],
   "source": [
    "# Just testing out the torch.sum() and the dim parameter\n",
    "# Setting dim=0 takes the sum across the rows while dim=1 takes the sum across the columns\n",
    "random = np.arange(1,11)\n",
    "randomrow = torch.from_numpy(random)\n",
    "randomcol = randomrow.view(len(randomrow),1) \n",
    "\n",
    "print(random)\n",
    "print(randomrow)\n",
    "print(randomcol)\n",
    "print(torch.sum(randomrow, dim=0))\n",
    "print(torch.sum(randomcol, dim=1))"
   ]
  },
  {
   "cell_type": "markdown",
   "metadata": {},
   "source": [
    "$$\n",
    "\\Large \\sigma(x_i) = \\cfrac{e^{x_i}}{\\sum_k^K{e^{x_k}}}\n",
    "$$"
   ]
  },
  {
   "cell_type": "code",
   "execution_count": 60,
   "metadata": {},
   "outputs": [
    {
     "name": "stdout",
     "output_type": "stream",
     "text": [
      "out or x:  torch.Size([64, 10])\n",
      "torch.Size([64])\n",
      "torch.Size([64, 10])\n",
      "torch.Size([64, 1])\n",
      "Softmax will divide each value according to the sum of rows\n",
      "probabilities.shape:  torch.Size([64, 10])\n",
      "tensor([1.0000, 1.0000, 1.0000, 1.0000, 1.0000, 1.0000, 1.0000, 1.0000, 1.0000,\n",
      "        1.0000, 1.0000, 1.0000, 1.0000, 1.0000, 1.0000, 1.0000, 1.0000, 1.0000,\n",
      "        1.0000, 1.0000, 1.0000, 1.0000, 1.0000, 1.0000, 1.0000, 1.0000, 1.0000,\n",
      "        1.0000, 1.0000, 1.0000, 1.0000, 1.0000, 1.0000, 1.0000, 1.0000, 1.0000,\n",
      "        1.0000, 1.0000, 1.0000, 1.0000, 1.0000, 1.0000, 1.0000, 1.0000, 1.0000,\n",
      "        1.0000, 1.0000, 1.0000, 1.0000, 1.0000, 1.0000, 1.0000, 1.0000, 1.0000,\n",
      "        1.0000, 1.0000, 1.0000, 1.0000, 1.0000, 1.0000, 1.0000, 1.0000, 1.0000,\n",
      "        1.0000])\n"
     ]
    }
   ],
   "source": [
    "print('out or x: ', out.shape)\n",
    "# Since we want to calculate the softmax for each image (64 images) to show each image's probability of being an output (10 outputs)\n",
    "print(torch.sum(torch.exp(out), dim=1).shape)\n",
    "print(torch.exp(out).shape)\n",
    "print(torch.sum(torch.exp(out), dim=1).view(-1, 1).shape)\n",
    "print('Softmax will divide each value according to the sum of rows')\n",
    "def softmax(x):\n",
    "    return torch.exp(x)       /      torch.sum(torch.exp(x), dim=1).view(-1, 1) \n",
    "# Setting dim=0 takes the sum across the rows while dim=1 takes the sum across the columns\n",
    "\n",
    "# Here, out should be the output of the network in the previous excercise with shape (64,10)\n",
    "probabilities = softmax(out)\n",
    "\n",
    "# Does it have the right shape? Should be (64, 10)\n",
    "print('probabilities.shape: ', probabilities.shape)\n",
    "# Does it sum to 1?\n",
    "print(probabilities.sum(dim=1))"
   ]
  },
  {
   "cell_type": "markdown",
   "metadata": {},
   "source": [
    "## Building networks with PyTorch\n",
    "\n",
    "PyTorch provides a module `nn` that makes building networks much simpler. Here I'll show you how to build the same one as above with 784 inputs, 256 hidden units, 10 output units and a softmax output."
   ]
  },
  {
   "cell_type": "code",
   "execution_count": 61,
   "metadata": {},
   "outputs": [],
   "source": [
    "from torch import nn"
   ]
  },
  {
   "cell_type": "code",
   "execution_count": 62,
   "metadata": {},
   "outputs": [],
   "source": [
    "class Network(nn.Module):\n",
    "    def __init__(self):\n",
    "        super().__init__() # input this so that pytorch can keep track of the following variables\n",
    "        \n",
    "        # Inputs to hidden layer linear transformation\n",
    "        self.hidden = nn.Linear(784, 256)\n",
    "        # Output layer, 10 units - one for each digit\n",
    "        self.output = nn.Linear(256, 10)\n",
    "        \n",
    "        # Define sigmoid activation and softmax output \n",
    "        self.sigmoid = nn.Sigmoid()\n",
    "        self.softmax = nn.Softmax(dim=1)\n",
    "        \n",
    "    def forward(self, x):\n",
    "        # Pass the input tensor through each of our operations\n",
    "        x = self.hidden(x)\n",
    "        x = self.sigmoid(x)\n",
    "        x = self.output(x)\n",
    "        x = self.softmax(x)\n",
    "        \n",
    "        return x"
   ]
  },
  {
   "cell_type": "markdown",
   "metadata": {},
   "source": [
    "Let's go through this bit by bit.\n",
    "\n",
    "```python\n",
    "class Network(nn.Module):\n",
    "```\n",
    "\n",
    "Here we're inheriting from `nn.Module`. Combined with `super().__init__()` this creates a class that tracks the architecture and provides a lot of useful methods and attributes. It is mandatory to inherit from `nn.Module` when you're creating a class for your network. The name of the class itself can be anything.\n",
    "\n",
    "```python\n",
    "self.hidden = nn.Linear(784, 256)\n",
    "```\n",
    "\n",
    "This line creates a module for a linear transformation, $x\\mathbf{W} + b$, with 784 inputs and 256 outputs and assigns it to `self.hidden`. The module automatically creates the weight and bias tensors which we'll use in the `forward` method. You can access the weight and bias tensors once the network once it's create at `net.hidden.weight` and `net.hidden.bias`.\n",
    "\n",
    "```python\n",
    "self.output = nn.Linear(256, 10)\n",
    "```\n",
    "\n",
    "Similarly, this creates another linear transformation with 256 inputs and 10 outputs.\n",
    "\n",
    "```python\n",
    "self.sigmoid = nn.Sigmoid()\n",
    "self.softmax = nn.Softmax(dim=1)\n",
    "```\n",
    "\n",
    "Here I defined operations for the sigmoid activation and softmax output. Setting `dim=1` in `nn.Softmax(dim=1)` calculates softmax across the columns.\n",
    "\n",
    "```python\n",
    "def forward(self, x):\n",
    "```\n",
    "\n",
    "PyTorch networks created with `nn.Module` must have a `forward` method defined. It takes in a tensor `x` and passes it through the operations you defined in the `__init__` method.\n",
    "\n",
    "```python\n",
    "x = self.hidden(x)\n",
    "x = self.sigmoid(x)\n",
    "x = self.output(x)\n",
    "x = self.softmax(x)\n",
    "```\n",
    "\n",
    "Here the input tensor `x` is passed through each operation a reassigned to `x`. We can see that the input tensor goes through the hidden layer, then a sigmoid function, then the output layer, and finally the softmax function. It doesn't matter what you name the variables here, as long as the inputs and outputs of the operations match the network architecture you want to build. The order in which you define things in the `__init__` method doesn't matter, but you'll need to sequence the operations correctly in the `forward` method.\n",
    "\n",
    "Now we can create a `Network` object."
   ]
  },
  {
   "cell_type": "code",
   "execution_count": 63,
   "metadata": {},
   "outputs": [
    {
     "data": {
      "text/plain": [
       "Network(\n",
       "  (hidden): Linear(in_features=784, out_features=256, bias=True)\n",
       "  (output): Linear(in_features=256, out_features=10, bias=True)\n",
       "  (sigmoid): Sigmoid()\n",
       "  (softmax): Softmax()\n",
       ")"
      ]
     },
     "execution_count": 63,
     "metadata": {},
     "output_type": "execute_result"
    }
   ],
   "source": [
    "# Create the network and look at it's text representation\n",
    "model = Network()\n",
    "model"
   ]
  },
  {
   "cell_type": "markdown",
   "metadata": {},
   "source": [
    "You can define the network somewhat more concisely and clearly using the `torch.nn.functional` module. This is the most common way you'll see networks defined as many operations are simple element-wise functions. We normally import this module as `F`, `import torch.nn.functional as F`."
   ]
  },
  {
   "cell_type": "code",
   "execution_count": 64,
   "metadata": {},
   "outputs": [],
   "source": [
    "import torch.nn.functional as F\n",
    "\n",
    "class Network(nn.Module):\n",
    "    def __init__(self):\n",
    "        super().__init__()\n",
    "        # Inputs to hidden layer linear transformation\n",
    "        self.hidden = nn.Linear(784, 256)\n",
    "        # Output layer, 10 units - one for each digit\n",
    "        self.output = nn.Linear(256, 10)\n",
    "        \n",
    "    def forward(self, x):\n",
    "        # Hidden layer with sigmoid activation\n",
    "        x = F.sigmoid(self.hidden(x))\n",
    "        # Output layer with softmax activation\n",
    "        x = F.softmax(self.output(x), dim=1)\n",
    "        \n",
    "        return x"
   ]
  },
  {
   "cell_type": "markdown",
   "metadata": {},
   "source": [
    "### Activation functions\n",
    "\n",
    "So far we've only been looking at the softmax activation, but in general any function can be used as an activation function. The only requirement is that for a network to approximate a non-linear function, the activation functions must be non-linear. Here are a few more examples of common activation functions: Tanh (hyperbolic tangent), and ReLU (rectified linear unit).\n",
    "\n",
    "<img src=\"assets/activation.png\" width=700px>\n",
    "\n",
    "In practice, the ReLU function is used almost exclusively as the activation function for hidden layers."
   ]
  },
  {
   "cell_type": "markdown",
   "metadata": {},
   "source": [
    "### Your Turn to Build a Network\n",
    "\n",
    "<img src=\"assets/mlp_mnist.png\" width=600px>\n",
    "\n",
    "> **Exercise:** Create a network with 784 input units, a hidden layer with 128 units and a ReLU activation, then a hidden layer with 64 units and a ReLU activation, and finally an output layer with a softmax activation as shown above. You can use a ReLU activation with the `nn.ReLU` module or `F.relu` function."
   ]
  },
  {
   "cell_type": "code",
   "execution_count": null,
   "metadata": {
    "scrolled": true
   },
   "outputs": [],
   "source": [
    "## Your solution here\n",
    "class MyNeuralNetwork(self):\n",
    "    "
   ]
  },
  {
   "cell_type": "markdown",
   "metadata": {},
   "source": [
    "### Initializing weights and biases\n",
    "\n",
    "The weights and such are automatically initialized for you, but it's possible to customize how they are initialized. The weights and biases are tensors attached to the layer you defined, you can get them with `model.fc1.weight` for instance."
   ]
  },
  {
   "cell_type": "code",
   "execution_count": null,
   "metadata": {},
   "outputs": [],
   "source": [
    "print(model.fc1.weight)\n",
    "print(model.fc1.bias)"
   ]
  },
  {
   "cell_type": "markdown",
   "metadata": {},
   "source": [
    "For custom initialization, we want to modify these tensors in place. These are actually autograd *Variables*, so we need to get back the actual tensors with `model.fc1.weight.data`. Once we have the tensors, we can fill them with zeros (for biases) or random normal values."
   ]
  },
  {
   "cell_type": "code",
   "execution_count": null,
   "metadata": {},
   "outputs": [],
   "source": [
    "# Set biases to all zeros\n",
    "model.fc1.bias.data.fill_(0)"
   ]
  },
  {
   "cell_type": "code",
   "execution_count": null,
   "metadata": {},
   "outputs": [],
   "source": [
    "# sample from random normal with standard dev = 0.01\n",
    "model.fc1.weight.data.normal_(std=0.01)"
   ]
  },
  {
   "cell_type": "markdown",
   "metadata": {},
   "source": [
    "### Forward pass\n",
    "\n",
    "Now that we have a network, let's see what happens when we pass in an image."
   ]
  },
  {
   "cell_type": "code",
   "execution_count": null,
   "metadata": {},
   "outputs": [],
   "source": [
    "# Grab some data \n",
    "dataiter = iter(trainloader)\n",
    "images, labels = dataiter.next()\n",
    "\n",
    "# Resize images into a 1D vector, new shape is (batch size, color channels, image pixels) \n",
    "images.resize_(64, 1, 784)\n",
    "# or images.resize_(images.shape[0], 1, 784) to automatically get batch size\n",
    "\n",
    "# Forward pass through the network\n",
    "img_idx = 0\n",
    "ps = model.forward(images[img_idx,:])\n",
    "\n",
    "img = images[img_idx]\n",
    "helper.view_classify(img.view(1, 28, 28), ps)"
   ]
  },
  {
   "cell_type": "markdown",
   "metadata": {},
   "source": [
    "As you can see above, our network has basically no idea what this digit is. It's because we haven't trained it yet, all the weights are random!\n",
    "\n",
    "### Using `nn.Sequential`\n",
    "\n",
    "PyTorch provides a convenient way to build networks like this where a tensor is passed sequentially through operations, `nn.Sequential` ([documentation](https://pytorch.org/docs/master/nn.html#torch.nn.Sequential)). Using this to build the equivalent network:"
   ]
  },
  {
   "cell_type": "code",
   "execution_count": null,
   "metadata": {},
   "outputs": [],
   "source": [
    "# Hyperparameters for our network\n",
    "input_size = 784\n",
    "hidden_sizes = [128, 64]\n",
    "output_size = 10\n",
    "\n",
    "# Build a feed-forward network\n",
    "model = nn.Sequential(nn.Linear(input_size, hidden_sizes[0]),\n",
    "                      nn.ReLU(),\n",
    "                      nn.Linear(hidden_sizes[0], hidden_sizes[1]),\n",
    "                      nn.ReLU(),\n",
    "                      nn.Linear(hidden_sizes[1], output_size),\n",
    "                      nn.Softmax(dim=1))\n",
    "print(model)\n",
    "\n",
    "# Forward pass through the network and display output\n",
    "images, labels = next(iter(trainloader))\n",
    "images.resize_(images.shape[0], 1, 784)\n",
    "ps = model.forward(images[0,:])\n",
    "helper.view_classify(images[0].view(1, 28, 28), ps)"
   ]
  },
  {
   "cell_type": "markdown",
   "metadata": {},
   "source": [
    "The operations are availble by passing in the appropriate index. For example, if you want to get first Linear operation and look at the weights, you'd use `model[0]`."
   ]
  },
  {
   "cell_type": "code",
   "execution_count": null,
   "metadata": {},
   "outputs": [],
   "source": [
    "print(model[0])\n",
    "model[0].weight"
   ]
  },
  {
   "cell_type": "markdown",
   "metadata": {},
   "source": [
    "You can also pass in an `OrderedDict` to name the individual layers and operations, instead of using incremental integers. Note that dictionary keys must be unique, so _each operation must have a different name_."
   ]
  },
  {
   "cell_type": "code",
   "execution_count": null,
   "metadata": {},
   "outputs": [],
   "source": [
    "from collections import OrderedDict\n",
    "model = nn.Sequential(OrderedDict([\n",
    "                      ('fc1', nn.Linear(input_size, hidden_sizes[0])),\n",
    "                      ('relu1', nn.ReLU()),\n",
    "                      ('fc2', nn.Linear(hidden_sizes[0], hidden_sizes[1])),\n",
    "                      ('relu2', nn.ReLU()),\n",
    "                      ('output', nn.Linear(hidden_sizes[1], output_size)),\n",
    "                      ('softmax', nn.Softmax(dim=1))]))\n",
    "model"
   ]
  },
  {
   "cell_type": "markdown",
   "metadata": {},
   "source": [
    "Now you can access layers either by integer or the name"
   ]
  },
  {
   "cell_type": "code",
   "execution_count": null,
   "metadata": {},
   "outputs": [],
   "source": [
    "print(model[0])\n",
    "print(model.fc1)"
   ]
  },
  {
   "cell_type": "markdown",
   "metadata": {},
   "source": [
    "In the next notebook, we'll see how we can train a neural network to accuractly predict the numbers appearing in the MNIST images."
   ]
  }
 ],
 "metadata": {
  "kernelspec": {
   "display_name": "Python 3",
   "language": "python",
   "name": "python3"
  },
  "language_info": {
   "codemirror_mode": {
    "name": "ipython",
    "version": 3
   },
   "file_extension": ".py",
   "mimetype": "text/x-python",
   "name": "python",
   "nbconvert_exporter": "python",
   "pygments_lexer": "ipython3",
   "version": "3.6.6"
  }
 },
 "nbformat": 4,
 "nbformat_minor": 2
}
